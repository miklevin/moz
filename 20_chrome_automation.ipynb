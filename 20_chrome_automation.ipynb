{
 "cells": [
  {
   "cell_type": "code",
   "execution_count": null,
   "id": "b9769738-0301-47ae-97ae-451cb9bb7d45",
   "metadata": {},
   "outputs": [],
   "source": [
    "%load_ext lab_black"
   ]
  },
  {
   "cell_type": "code",
   "execution_count": null,
   "id": "d4785ea9-e741-411c-93e8-fbc3e831aab5",
   "metadata": {},
   "outputs": [],
   "source": [
    "import nest_asyncio\n",
    "\n",
    "nest_asyncio.apply()\n",
    "\n",
    "import asyncio\n",
    "from playwright.async_api import Playwright, async_playwright\n",
    "\n",
    "site = \"https://moz.com/\"\n",
    "slow_mo = 50\n",
    "chrome_exe = \"/usr/bin/google-chrome\"\n",
    "downloads_path = \"/home/ubuntu/Downloads\"\n",
    "user_data = \"/home/ubuntu/.config/google-chrome/\"\n",
    "auth_json = \"/home/ubuntu/repos/moz/assets/auth.json\"\n",
    "\n",
    "\n",
    "async def main():\n",
    "    async with async_playwright() as playwright:\n",
    "        context = await playwright.chromium.launch_persistent_context(\n",
    "            \"session\",\n",
    "            viewport={\"width\": 1200, \"height\": 1200},\n",
    "            downloads_path=downloads_path,\n",
    "            executable_path=chrome_exe,\n",
    "            accept_downloads=True,\n",
    "            channel=\"chrome\",\n",
    "            slow_mo=slow_mo,\n",
    "            headless=False,\n",
    "        )\n",
    "        page = await context.new_page()\n",
    "        await context.storage_state(path=auth_json)\n",
    "        await page.goto(site)\n",
    "        \n",
    "        # Codegen activated\n",
    "        await page.pause()  # Edit this line in for codegen and out for automation.\n",
    "        \n",
    "        # -- BEGIN CODEGEN LINES --\n",
    "        await page.get_by_role(\"button\", name=\"Why Moz\").click()\n",
    "        await page.get_by_role(\"button\", name=\"Free SEO Tools\").click()\n",
    "        await page.get_by_text(\"Link Explorer\").nth(1).click()\n",
    "        # -- END CODEGEN LINES --\n",
    "\n",
    "        # When done, close the browser.\n",
    "        await asyncio.sleep(5)\n",
    "        await context.close()\n",
    "\n",
    "\n",
    "async def run_main():\n",
    "    await main()\n",
    "\n",
    "\n",
    "try:\n",
    "    asyncio.run(run_main())\n",
    "except:\n",
    "    loop = asyncio.get_event_loop()\n",
    "    loop.run_until_complete(run_main())"
   ]
  },
  {
   "cell_type": "markdown",
   "id": "5ff88c91-9d4f-468a-abc8-f80c94c0c390",
   "metadata": {},
   "source": []
  }
 ],
 "metadata": {
  "kernelspec": {
   "display_name": "Python 3 (ipykernel)",
   "language": "python",
   "name": "python3"
  },
  "language_info": {
   "codemirror_mode": {
    "name": "ipython",
    "version": 3
   },
   "file_extension": ".py",
   "mimetype": "text/x-python",
   "name": "python",
   "nbconvert_exporter": "python",
   "pygments_lexer": "ipython3"
  }
 },
 "nbformat": 4,
 "nbformat_minor": 5
}
