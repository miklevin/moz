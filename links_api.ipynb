{
 "cells": [
  {
   "cell_type": "markdown",
   "id": "6c6580b2-a5f4-4f44-9cb4-7c57ac78528d",
   "metadata": {},
   "source": [
    "# MOZ Links API Documentation\n",
    "https://moz.com/help/linksa-api\n",
    "\n",
    "Welcome to the MOZ Links API! Using this, you can access the same data that\n",
    "powers the MOZ Link Explorer. This environment you're in is called a Jupyter\n",
    "Notebook, though the actual software that's running the Notebook is called\n",
    "JupyterLab. There are a variety of ways to run Notebooks, including cloud-hosted, \n",
    "such as Google Colab.\n",
    "\n",
    "This is the documentation that is embedded into the Notebook along with live\n",
    "run-able code. Below is Python programming code. When you run a cell, it actually \n",
    "runs in a full fledged Python virtual machine (kernel), with a fully modern, \n",
    "exactly as from the Python.org CPython official version.\n",
    "\n",
    "## Learn a Little Python\n",
    "\n",
    "Don't be scared. Many people using APIs like this will do everything within their\n",
    "power to not look at a line of code, but instead lean on tools like ScreamingFrog\n",
    "API integration or a Google Sheets or Excel plug-in. I'm here to show you it's not\n",
    "so bad, and you can do plenty of things you can't do under those restrictions.\n",
    "\n",
    "## Black Uncompromising Code Formatting\n",
    "\n",
    "Stylistic code formatting issues are not automatically tended to by JupyterLab. \n",
    "basically lets you use whatever coding style you like, but this next line loads\n",
    "a pre-installed external resource called \"black\" which takes care of issues like\n",
    "line-wraps, indents and other matters of PEP8 coding style compliance. Running it\n",
    "is optional, but when you do it will reformat each of your code-blocks after you\n",
    "run them."
   ]
  },
  {
   "cell_type": "code",
   "execution_count": null,
   "id": "446483a8-beef-44af-8400-dcc96665714b",
   "metadata": {},
   "outputs": [],
   "source": [
    "%load_ext lab_black"
   ]
  },
  {
   "cell_type": "markdown",
   "id": "ea0153d9-54d6-4eca-ae06-19f29170f96e",
   "metadata": {},
   "source": [
    "# Do global imports\n",
    "\n",
    "These below import lines are to load resources that are not loaded into the\n",
    "running Python interpreter by default, but we know we will need it later on.\n",
    "They can be used anywhere in the Notebook."
   ]
  },
  {
   "cell_type": "code",
   "execution_count": null,
   "id": "ad06b745-0476-41e4-b6fc-d30bd017bf1c",
   "metadata": {},
   "outputs": [],
   "source": [
    "# Import Python libraries\n",
    "import json\n",
    "import requests\n",
    "from headlines import *\n",
    "from pprint import pprint\n",
    "from sqlitedict import SqliteDict as sqldict"
   ]
  },
  {
   "cell_type": "markdown",
   "id": "8b783028-6def-4f3a-9d68-2f35ed5e028c",
   "metadata": {},
   "source": [
    "# Load login values from file\n",
    "\n",
    "We avoid putting login information in the part of this folder that gets\n",
    "syncronized up to Github in a repo."
   ]
  },
  {
   "cell_type": "code",
   "execution_count": null,
   "id": "fb965944-bd6c-4a4c-b7a3-64842a59825c",
   "metadata": {},
   "outputs": [],
   "source": [
    "# Get credentials from external file\n",
    "with open(\"assets/mozcreds.txt\") as fh:\n",
    "    ACCESSID, SECRETKEY = [x.strip().split(\": \")[1] for x in fh.readlines()]"
   ]
  },
  {
   "cell_type": "markdown",
   "id": "441819b2-4850-4f78-951e-a395b0439fb0",
   "metadata": {},
   "source": [
    "# Configure variables\n",
    "\n",
    "Things in ALL CAPS are constants and never change, though that's not a set\n",
    "rule in Python. The rest of the things are just enough to define an API-call."
   ]
  },
  {
   "cell_type": "code",
   "execution_count": null,
   "id": "ab0fe10a-92e4-4568-921e-c48146043eda",
   "metadata": {},
   "outputs": [],
   "source": [
    "ENDPOINT = \"https://lsapi.seomoz.com/v2/\"\n",
    "end_sub = \"anchor_text\"\n",
    "\n",
    "url = ENDPOINT + end_sub\n",
    "auth = (ACCESSID, SECRETKEY)\n",
    "data = {\"target\": \"moz.com/blog\", \"scope\": \"page\", \"limit\": 1}\n",
    "data = json.dumps(data)"
   ]
  },
  {
   "cell_type": "markdown",
   "id": "fc43d78b-188d-4fa1-a378-021fdbd8a3a0",
   "metadata": {},
   "source": [
    "# Hit API (Ensure Success)\n",
    "\n",
    "This step actually uses the requests package to reach out over the\n",
    "Internet and hit the MOZ API. The data that comes back is real."
   ]
  },
  {
   "cell_type": "code",
   "execution_count": null,
   "id": "fe6fcecb-436a-42fb-ad9f-1c2afd71d395",
   "metadata": {},
   "outputs": [],
   "source": [
    "r = requests.post(url, data=data, auth=auth)\n",
    "print(r)\n",
    "r.json()"
   ]
  },
  {
   "cell_type": "code",
   "execution_count": null,
   "id": "8567aed7-8d0a-4cd0-be57-9d958c6f32cf",
   "metadata": {},
   "outputs": [],
   "source": [
    "# This is no longer needed. It was used to convert the stringified json\n",
    "# Python request examples from the MOZ website into Python dict objects.\n",
    "\n",
    "def objectify(strjson):\n",
    "    \"\"\"Returns dict object given stringified JSON.\"\"\"\n",
    "    adict = json.loads(strjson)\n",
    "    return adict"
   ]
  },
  {
   "cell_type": "markdown",
   "id": "1b3c9d30-615f-4ebf-8346-ac4d8feb8b41",
   "metadata": {},
   "source": [
    "# List Endpoints\n",
    "\n",
    "These are the various sub-endpoints. The common part of the service's\n",
    "address is in the ENDPOINT constant. It never changes. But we may hit\n",
    "different services reachable from that common endpoint:"
   ]
  },
  {
   "cell_type": "code",
   "execution_count": null,
   "id": "cc961c74-e9c4-4b13-9374-1970342f4c15",
   "metadata": {},
   "outputs": [],
   "source": [
    "points = [\n",
    "    \"anchor_text\",\n",
    "    \"final_redirect\",\n",
    "    \"global_top_pages\",\n",
    "    \"global_top_root_domains\",\n",
    "    \"index_metadata\",\n",
    "    \"link_intersect\",\n",
    "    \"link_status\",\n",
    "    \"linking_root_domains\",\n",
    "    \"links\",\n",
    "    \"top_pages\",\n",
    "    \"url_metrics\",\n",
    "    \"usage_data\",\n",
    "    \"link_intersect\",\n",
    "    \"link_status\",\n",
    "    \"url_metrics\",\n",
    "]"
   ]
  },
  {
   "cell_type": "code",
   "execution_count": null,
   "id": "faaf7886-32b9-4099-8a82-2d308b0169d0",
   "metadata": {},
   "outputs": [],
   "source": [
    "# List all available endpoints\n",
    "for i, point in enumerate(points):\n",
    "    print(i + 1, point)"
   ]
  },
  {
   "cell_type": "markdown",
   "id": "f91a7563-e964-46a1-8bc5-9ff761d60a99",
   "metadata": {},
   "source": [
    "We can make an identical list, but with the \"human\" labels, plus descriptions.\n",
    "If I keep it in the same order, I can \"zip\" the 2 lists together for documentation."
   ]
  },
  {
   "cell_type": "code",
   "execution_count": null,
   "id": "fe48eb88-abc2-491a-a262-e92ae2d7f2c2",
   "metadata": {},
   "outputs": [],
   "source": [
    "names = [\n",
    "    \"Anchor Text\",\n",
    "    \"Final Redirect\",\n",
    "    \"Global Top Pages\",\n",
    "    \"Global Top Root Domains\",\n",
    "    \"Index Metadata\",\n",
    "    \"Link Intersect\",\n",
    "    \"Link Status\",\n",
    "    \"Linking Root Domains\",\n",
    "    \"Links\",\n",
    "    \"Top Pages\",\n",
    "    \"URL Metrics\",\n",
    "    \"Usage Data\",\n",
    "    \"Link Intersect\",\n",
    "    \"Link Status\",\n",
    "    \"URL Metrics\",\n",
    "]"
   ]
  },
  {
   "cell_type": "code",
   "execution_count": null,
   "id": "ba8313d0-f05e-48e2-963f-cbb0f7e59e6b",
   "metadata": {},
   "outputs": [],
   "source": [
    "descriptions = [\n",
    "    \"Use this endpoint to get data about anchor text used by followed external links to a target. Results are ordered by external_root_domains descending.\",\n",
    "    \"Use this endpoint to get data about anchor text used by followed external links to a target. Results are ordered by external_root_domains descending.\",\n",
    "    \"This endpoint returns the top 500 pages in the entire index with the highest Page Authority values, sorted by Page Authority. (Visit the Top 500 Sites list to explore the top root domains on the web, sorted by Domain Authority.)\",\n",
    "    \"This endpoint returns the top 500 pages in the entire index with the highest Page Authority values, sorted by Page Authority. (Visit the Top 500 Sites list to explore the top root domains on the web, sorted by Domain Authority.)\",\n",
    "    \"This endpoint returns the top 500 pages in the entire index with the highest Page Authority values, sorted by Page Authority. (Visit the Top 500 Sites list to explore the top root domains on the web, sorted by Domain Authority.)\",\n",
    "    \"Use this endpoint to get sources that link to at least one of a list of positive targets and don't link to any of a list of negative targets.\",\n",
    "    \"Use this endpoint to get information about links from many sources to a single target.\",\n",
    "    \"Use this endpoint to get linking root domains to a target.\",\n",
    "    \"Use this endpoint to get links to a target.\",\n",
    "    \"This endpoint returns top pages on a target domain.\",\n",
    "    \"Use this endpoint to get metrics about one or more urls.\",\n",
    "    \"This endpoint Returns the number of rows consumed so far in the current billing period. The count returned might not reflect rows consumed in the last hour. The count returned reflects rows consumed by requests to both the v1 (Moz Links API) and v2 Links APIs.\",\n",
    "    \"Use this endpoint to get information about links from many sources to a single target.\",\n",
    "    \"Use this endpoint to get metrics about one or more urls.\",\n",
    "    \"Use this endpoint to get sources that link to at least one of a list of positive targets and don't link to any of a list of negative targets.\",\n",
    "]"
   ]
  },
  {
   "cell_type": "code",
   "execution_count": null,
   "id": "2ed77028-f081-4055-984d-1bd970e011f0",
   "metadata": {},
   "outputs": [],
   "source": [
    "# Simple zipping example\n",
    "list(zip(names, points))"
   ]
  },
  {
   "cell_type": "markdown",
   "id": "7a1e4e2e-c17b-431a-924d-9166274e75b7",
   "metadata": {},
   "source": [
    "# Make an example request for each endpoint."
   ]
  },
  {
   "cell_type": "code",
   "execution_count": null,
   "id": "d90fae21-4522-4f9a-872a-36389713489b",
   "metadata": {},
   "outputs": [],
   "source": [
    "ed = {\n",
    "    \"anchor_text\": {\"target\": \"moz.com/blog\", \"scope\": \"page\", \"limit\": 5},\n",
    "    \"links\": {\n",
    "        \"target\": \"moz.com/blog\",\n",
    "        \"target_scope\": \"page\",\n",
    "        \"filter\": \"external+nofollow\",\n",
    "        \"limit\": 1,\n",
    "    },\n",
    "    \"final_redirect\": {\"page\": \"seomoz.org/blog\"},\n",
    "    \"global_top_pages\": {\"limit\": 5},\n",
    "    \"global_top_root_domains\": {\"limit\": 5},\n",
    "    \"index_metadata\": {},\n",
    "    \"link_intersect\": {\n",
    "        \"positive_targets\": [\n",
    "            {\"target\": \"latimes.com\", \"scope\": \"root_domain\"},\n",
    "            {\"target\": \"blog.nytimes.com\", \"scope\": \"subdomain\"},\n",
    "        ],\n",
    "        \"negative_targets\": [{\"target\": \"moz.com\", \"scope\": \"root_domain\"}],\n",
    "        \"source_scope\": \"page\",\n",
    "        \"sort\": \"source_domain_authority\",\n",
    "        \"limit\": 1,\n",
    "    },\n",
    "    \"link_status\": {\n",
    "        \"target\": \"moz.com/blog\",\n",
    "        \"sources\": [\"twitter.com\", \"linkedin.com\"],\n",
    "        \"source_scope\": \"root_domain\",\n",
    "        \"target_scope\": \"page\",\n",
    "    },\n",
    "    \"linking_root_domains\": {\n",
    "        \"target\": \"moz.com/blog\",\n",
    "        \"target_scope\": \"page\",\n",
    "        \"filter\": \"external\",\n",
    "        \"sort\": \"source_domain_authority\",\n",
    "        \"limit\": 5,\n",
    "    },\n",
    "    \"top_pages\": {\"target\": \"moz.com\", \"scope\": \"root_domain\", \"limit\": 5},\n",
    "    \"url_metrics\": {\"targets\": [\"moz.com\", \"nytimes.com\"]},\n",
    "    \"usage_data\": {},\n",
    "}"
   ]
  },
  {
   "cell_type": "code",
   "execution_count": null,
   "id": "0a82639e-dfbd-45c0-b569-daa85972e9e6",
   "metadata": {},
   "outputs": [],
   "source": [
    "for i, point in enumerate(points):\n",
    "    h1(f\"{i + 1}. {names[i]} ({point})\")\n",
    "    print(descriptions[i])\n",
    "    h4(\"Example request:\")\n",
    "    pprint(ed[point])\n",
    "    print()"
   ]
  },
  {
   "cell_type": "markdown",
   "id": "ab748f84-6d5f-44cb-bbf3-c353dcc145b2",
   "metadata": {},
   "source": [
    "# About The Above\n",
    "\n",
    "The above output has not really touched the API. It's only listing each\n",
    "endpoint and enough about them to run a sample request. But we don't want\n",
    "to run these requests over and over because API usage has some cost.\n",
    "\n",
    "In order to just run each API sample query once, we're going to store the\n",
    "results as we receive them and ***check*** whether we've already gotten\n",
    "those results before attempting to retrieve them again."
   ]
  },
  {
   "cell_type": "markdown",
   "id": "22616ba3-ff47-45e0-bbd8-6d8894962c72",
   "metadata": {},
   "source": [
    "# Define a Function\n",
    "\n",
    "Before we go executing the above requests like in the opening example\n",
    "where we first touched the API, we're going to create a function so that\n",
    "we're not repeating the same code. Each time we hit the MOZ Links API,\n",
    "the only thing that changes is the sub-endpoint and the request. And so:"
   ]
  },
  {
   "cell_type": "code",
   "execution_count": null,
   "id": "5a4c7a78-291d-44e3-b3a7-e2b7931805fb",
   "metadata": {},
   "outputs": [],
   "source": [
    "def moz(subend, datadict):\n",
    "    \"\"\"Hits MOZ Links API with specified endpoint and request and returns results.\"\"\"\n",
    "    data = json.dumps(datadict)\n",
    "    url = ENDPOINT + subend\n",
    "    r = requests.post(url, data=data, auth=auth)\n",
    "    return r"
   ]
  },
  {
   "cell_type": "code",
   "execution_count": null,
   "id": "78dc52e2-9d4c-425b-8401-c375132984c9",
   "metadata": {},
   "outputs": [],
   "source": [
    "with sqldict(\"dbs/mozlinksapi.db\") as db:\n",
    "    for endpoint in points:\n",
    "        if endpoint not in db:\n",
    "            print(endpoint)\n",
    "            result = moz(point, ed[point])\n",
    "            db[endpoint] = result\n",
    "            db.commit()\n",
    "            print(\"API hit and response saved!\")\n",
    "            print()"
   ]
  },
  {
   "cell_type": "code",
   "execution_count": null,
   "id": "dfcef3ea-9c4e-481b-bf3a-d771bc3fd96b",
   "metadata": {},
   "outputs": [],
   "source": [
    "with sqldict(\"dbs/mozlinksapi.db\") as db:\n",
    "    for key in db:\n",
    "        print(key)"
   ]
  },
  {
   "cell_type": "code",
   "execution_count": null,
   "id": "59235ddc-5a3f-4442-9123-193cbf97916c",
   "metadata": {},
   "outputs": [],
   "source": [
    "with sqldict(\"dbs/mozlinksapi.db\") as db:\n",
    "    for key in db:\n",
    "        print(db[key])"
   ]
  },
  {
   "cell_type": "code",
   "execution_count": null,
   "id": "57c024a4-a73e-4598-b8cf-ab1d9c0d1eb4",
   "metadata": {},
   "outputs": [],
   "source": [
    "with sqldict(\"dbs/mozlinksapi.db\") as db:\n",
    "    for key in db:\n",
    "        pprint(db[key].json())"
   ]
  },
  {
   "cell_type": "code",
   "execution_count": null,
   "id": "ac830f74-9c4d-436e-8cbc-2bd71d6eaf17",
   "metadata": {},
   "outputs": [],
   "source": []
  }
 ],
 "metadata": {
  "kernelspec": {
   "display_name": "Python 3 (ipykernel)",
   "language": "python",
   "name": "python3"
  },
  "language_info": {
   "codemirror_mode": {
    "name": "ipython",
    "version": 3
   },
   "file_extension": ".py",
   "mimetype": "text/x-python",
   "name": "python",
   "nbconvert_exporter": "python",
   "pygments_lexer": "ipython3"
  }
 },
 "nbformat": 4,
 "nbformat_minor": 5
}
