{
 "cells": [
  {
   "cell_type": "code",
   "execution_count": null,
   "id": "446483a8-beef-44af-8400-dcc96665714b",
   "metadata": {},
   "outputs": [],
   "source": [
    "%load_ext lab_black"
   ]
  },
  {
   "cell_type": "markdown",
   "id": "6c6580b2-a5f4-4f44-9cb4-7c57ac78528d",
   "metadata": {},
   "source": [
    "# Read the docs\n",
    "https://moz.com/help/linksa-api\n",
    "\n",
    "Welcome to the MOZ Links API! Using this, you can access the same data that\n",
    "powers the MOZ Link Explorer. This environment you're in is called a Jupyter\n",
    "Notebook, though the actual software that's running the Notebook is called\n",
    "JupyterLab. There are a variety of ways to run Notebooks, including cloud-hosted, \n",
    "such as Google Colab.\n",
    "\n",
    "This is the documentation that is embedded into the Notebook along with live\n",
    "run-able code. Below is Python programming code. When you run a cell, it actually \n",
    "runs in a full fledged Python virtual machine (kernel), with a fully modern, \n",
    "exactly as from the Python.org CPython official version.\n",
    "\n",
    "# Do global imports\n",
    "\n",
    "These are resources that are not loaded into the running Python interpreter\n",
    "by default, but we know we will need it later on. They can be used anywhere\n",
    "in the Notebook."
   ]
  },
  {
   "cell_type": "code",
   "execution_count": null,
   "id": "ad06b745-0476-41e4-b6fc-d30bd017bf1c",
   "metadata": {},
   "outputs": [],
   "source": [
    "import json\n",
    "import requests"
   ]
  },
  {
   "cell_type": "markdown",
   "id": "8b783028-6def-4f3a-9d68-2f35ed5e028c",
   "metadata": {},
   "source": [
    "# Get login values from drive\n",
    "\n",
    "We avoid putting login information in the part of this folder that gets\n",
    "syncronized up to Github in a repo."
   ]
  },
  {
   "cell_type": "code",
   "execution_count": null,
   "id": "fb965944-bd6c-4a4c-b7a3-64842a59825c",
   "metadata": {},
   "outputs": [],
   "source": [
    "# Get credentials from external file\n",
    "with open(\"mozcreds.txt\") as fh:\n",
    "    ACCESSID, SECRETKEY = [x.strip().split(\": \")[1] for x in fh.readlines()]"
   ]
  },
  {
   "cell_type": "markdown",
   "id": "441819b2-4850-4f78-951e-a395b0439fb0",
   "metadata": {},
   "source": [
    "# Configure variables"
   ]
  },
  {
   "cell_type": "code",
   "execution_count": null,
   "id": "ab0fe10a-92e4-4568-921e-c48146043eda",
   "metadata": {},
   "outputs": [],
   "source": [
    "ENDPOINT = \"https://lsapi.seomoz.com/v2/\"\n",
    "end_sub = \"anchor_text\"\n",
    "url = ENDPOINT + end_sub\n",
    "auth = (ACCESSID, SECRETKEY)\n",
    "data = {\"target\": \"moz.com/blog\", \"scope\": \"page\", \"limit\": 1}\n",
    "data = json.dumps(data)"
   ]
  },
  {
   "cell_type": "markdown",
   "id": "fc43d78b-188d-4fa1-a378-021fdbd8a3a0",
   "metadata": {},
   "source": [
    "# Hit API"
   ]
  },
  {
   "cell_type": "code",
   "execution_count": null,
   "id": "fe6fcecb-436a-42fb-ad9f-1c2afd71d395",
   "metadata": {},
   "outputs": [],
   "source": [
    "r = requests.post(url, data=data, auth=auth)"
   ]
  },
  {
   "cell_type": "code",
   "execution_count": null,
   "id": "49a00099-24d1-48ca-b276-92d561d4d504",
   "metadata": {},
   "outputs": [],
   "source": [
    "r"
   ]
  },
  {
   "cell_type": "code",
   "execution_count": null,
   "id": "f35151bf-4273-4a2a-ab67-89575ced59e4",
   "metadata": {},
   "outputs": [],
   "source": [
    "r.json()"
   ]
  },
  {
   "cell_type": "code",
   "execution_count": null,
   "id": "cc961c74-e9c4-4b13-9374-1970342f4c15",
   "metadata": {},
   "outputs": [],
   "source": []
  }
 ],
 "metadata": {
  "kernelspec": {
   "display_name": "Python 3 (ipykernel)",
   "language": "python",
   "name": "python3"
  },
  "language_info": {
   "codemirror_mode": {
    "name": "ipython",
    "version": 3
   },
   "file_extension": ".py",
   "mimetype": "text/x-python",
   "name": "python",
   "nbconvert_exporter": "python",
   "pygments_lexer": "ipython3"
  }
 },
 "nbformat": 4,
 "nbformat_minor": 5
}
