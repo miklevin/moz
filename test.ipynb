{
 "cells": [
  {
   "cell_type": "code",
   "execution_count": null,
   "id": "446483a8-beef-44af-8400-dcc96665714b",
   "metadata": {},
   "outputs": [],
   "source": [
    "%load_ext lab_black"
   ]
  },
  {
   "cell_type": "markdown",
   "id": "6c6580b2-a5f4-4f44-9cb4-7c57ac78528d",
   "metadata": {},
   "source": [
    "# Read the docs\n",
    "https://moz.com/help/linksa-api\n",
    "\n",
    "Welcome to the MOZ Links API! Using this, you can access the same data that\n",
    "powers the MOZ Link Explorer. This environment you're in is called a Jupyter\n",
    "Notebook, though the actual software that's running the Notebook is called\n",
    "JupyterLab. There are a variety of ways to run Notebooks, including cloud-hosted, \n",
    "such as Google Colab.\n",
    "\n",
    "This is the documentation that is embedded into the Notebook along with live\n",
    "run-able code. Below is Python programming code. When you run a cell, it actually \n",
    "runs in a full fledged Python virtual machine (kernel), with a fully modern, \n",
    "exactly as from the Python.org CPython official version.\n",
    "\n",
    "# Do global imports\n",
    "\n",
    "These are resources that are not loaded into the running Python interpreter\n",
    "by default, but we know we will need it later on. They can be used anywhere\n",
    "in the Notebook."
   ]
  },
  {
   "cell_type": "code",
   "execution_count": null,
   "id": "ad06b745-0476-41e4-b6fc-d30bd017bf1c",
   "metadata": {},
   "outputs": [],
   "source": [
    "import json\n",
    "import requests"
   ]
  },
  {
   "cell_type": "markdown",
   "id": "8b783028-6def-4f3a-9d68-2f35ed5e028c",
   "metadata": {},
   "source": [
    "# Get login values from drive\n",
    "\n",
    "We avoid putting login information in the part of this folder that gets\n",
    "syncronized up to Github in a repo."
   ]
  },
  {
   "cell_type": "code",
   "execution_count": null,
   "id": "fb965944-bd6c-4a4c-b7a3-64842a59825c",
   "metadata": {},
   "outputs": [],
   "source": [
    "# Get credentials from external file\n",
    "with open(\"mozcreds.txt\") as fh:\n",
    "    ACCESSID, SECRETKEY = [x.strip().split(\": \")[1] for x in fh.readlines()]"
   ]
  },
  {
   "cell_type": "markdown",
   "id": "441819b2-4850-4f78-951e-a395b0439fb0",
   "metadata": {},
   "source": [
    "# Configure variables\n",
    "\n",
    "Things in ALL CAPS are constants and never change, though that's not a set\n",
    "rule in Python. The rest of the things are just enough to define an API-call."
   ]
  },
  {
   "cell_type": "code",
   "execution_count": null,
   "id": "ab0fe10a-92e4-4568-921e-c48146043eda",
   "metadata": {},
   "outputs": [],
   "source": [
    "ENDPOINT = \"https://lsapi.seomoz.com/v2/\"\n",
    "end_sub = \"anchor_text\"\n",
    "url = ENDPOINT + end_sub\n",
    "auth = (ACCESSID, SECRETKEY)\n",
    "data = {\"target\": \"moz.com/blog\", \"scope\": \"page\", \"limit\": 1}\n",
    "data = json.dumps(data)"
   ]
  },
  {
   "cell_type": "markdown",
   "id": "fc43d78b-188d-4fa1-a378-021fdbd8a3a0",
   "metadata": {},
   "source": [
    "# Hit API\n",
    "\n",
    "This step actually uses the requests package to reach out over the\n",
    "Internet and hit the MOZ API. The data that comes back is real."
   ]
  },
  {
   "cell_type": "code",
   "execution_count": null,
   "id": "fe6fcecb-436a-42fb-ad9f-1c2afd71d395",
   "metadata": {},
   "outputs": [],
   "source": [
    "r = requests.post(url, data=data, auth=auth)"
   ]
  },
  {
   "cell_type": "code",
   "execution_count": null,
   "id": "49a00099-24d1-48ca-b276-92d561d4d504",
   "metadata": {},
   "outputs": [],
   "source": [
    "r"
   ]
  },
  {
   "cell_type": "code",
   "execution_count": null,
   "id": "f35151bf-4273-4a2a-ab67-89575ced59e4",
   "metadata": {},
   "outputs": [],
   "source": [
    "r.json()"
   ]
  },
  {
   "cell_type": "markdown",
   "id": "1b3c9d30-615f-4ebf-8346-ac4d8feb8b41",
   "metadata": {},
   "source": [
    "# Endpoints\n",
    "\n",
    "These are the various sub-endpoints. The common part of the service's\n",
    "address is in the ENDPOINT constant. It never changes. But we may hit\n",
    "different services reachable from that common endpoint:"
   ]
  },
  {
   "cell_type": "code",
   "execution_count": null,
   "id": "cc961c74-e9c4-4b13-9374-1970342f4c15",
   "metadata": {},
   "outputs": [],
   "source": [
    "points = [\n",
    "    \"anchor_text\",\n",
    "    \"final_redirect\",\n",
    "    \"final_redirect\",\n",
    "    \"global_top_pages\",\n",
    "    \"global_top_root_domains\",\n",
    "    \"index_metadata\",\n",
    "    \"link_intersect\",\n",
    "    \"link_status\",\n",
    "    \"linking_root_domains\",\n",
    "    \"links\",\n",
    "    \"top_pages\",\n",
    "    \"url_metrics\",\n",
    "    \"usage_data\",\n",
    "    \"link_intersect\",\n",
    "    \"link_status\",\n",
    "    \"url_metrics\",\n",
    "]"
   ]
  },
  {
   "cell_type": "code",
   "execution_count": null,
   "id": "faaf7886-32b9-4099-8a82-2d308b0169d0",
   "metadata": {},
   "outputs": [],
   "source": [
    "# List all available endpoints\n",
    "for point in points:\n",
    "    print(point)"
   ]
  },
  {
   "cell_type": "code",
   "execution_count": null,
   "id": "454dd6cc-40a0-4f22-b09d-e0e19976144a",
   "metadata": {},
   "outputs": [],
   "source": [
    "ed = {}\n",
    "\n",
    "ed[\"anchor_text\"] = {\"target\": \"moz.com/blog\", \"scope\": \"page\", \"limit\": 5}"
   ]
  },
  {
   "cell_type": "code",
   "execution_count": null,
   "id": "8fbe2274-7547-463e-8a72-f675ed1cbb00",
   "metadata": {},
   "outputs": [],
   "source": [
    "ed[\"anchor_text\"]"
   ]
  },
  {
   "cell_type": "markdown",
   "id": "22616ba3-ff47-45e0-bbd8-6d8894962c72",
   "metadata": {},
   "source": [
    "# Define a Function\n",
    "\n",
    "Whenever we start to do the same sequence of code with only small\n",
    "variations between versions more than once, we write a function."
   ]
  },
  {
   "cell_type": "code",
   "execution_count": null,
   "id": "5a4c7a78-291d-44e3-b3a7-e2b7931805fb",
   "metadata": {},
   "outputs": [],
   "source": [
    "def moz(subend, datadict):\n",
    "    data = json.dumps(datadict)\n",
    "    url = ENDPOINT + subend\n",
    "    r = requests.post(url, data=data, auth=auth)\n",
    "    return r"
   ]
  },
  {
   "cell_type": "code",
   "execution_count": null,
   "id": "6ca6566a-ae00-418d-a9ba-a9efc55427fa",
   "metadata": {},
   "outputs": [],
   "source": [
    "aresult = moz(\"anchor_text\", {\"target\": \"moz.com/blog\", \"scope\": \"page\", \"limit\": 1})"
   ]
  },
  {
   "cell_type": "code",
   "execution_count": null,
   "id": "b8cc6d2b-e0b1-4c58-8196-d672f4376d7c",
   "metadata": {},
   "outputs": [],
   "source": [
    "aresult"
   ]
  },
  {
   "cell_type": "code",
   "execution_count": null,
   "id": "7e134334-17d2-474a-938c-1c40e3304bdd",
   "metadata": {},
   "outputs": [],
   "source": [
    "aresult.json()"
   ]
  },
  {
   "cell_type": "code",
   "execution_count": null,
   "id": "b2ac2ee7-8acf-433c-b85b-95fa66a52c40",
   "metadata": {},
   "outputs": [],
   "source": [
    "data = {\n",
    "    \"target\": \"moz.com/blog\",\n",
    "    \"target_scope\": \"page\",\n",
    "    \"filter\": \"external+nofollow\",\n",
    "    \"limit\": 1,\n",
    "}\n",
    "bresult = moz(\"links\", data)\n",
    "bresult.json"
   ]
  },
  {
   "cell_type": "code",
   "execution_count": null,
   "id": "707102f7-4a1e-4c7e-97cc-e21bca40b13b",
   "metadata": {},
   "outputs": [],
   "source": []
  }
 ],
 "metadata": {
  "kernelspec": {
   "display_name": "Python 3 (ipykernel)",
   "language": "python",
   "name": "python3"
  },
  "language_info": {
   "codemirror_mode": {
    "name": "ipython",
    "version": 3
   },
   "file_extension": ".py",
   "mimetype": "text/x-python",
   "name": "python",
   "nbconvert_exporter": "python",
   "pygments_lexer": "ipython3"
  }
 },
 "nbformat": 4,
 "nbformat_minor": 5
}
