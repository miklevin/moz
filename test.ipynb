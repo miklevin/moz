{
 "cells": [
  {
   "cell_type": "code",
   "execution_count": null,
   "id": "446483a8-beef-44af-8400-dcc96665714b",
   "metadata": {},
   "outputs": [],
   "source": [
    "%load_ext lab_black"
   ]
  },
  {
   "cell_type": "markdown",
   "id": "6c6580b2-a5f4-4f44-9cb4-7c57ac78528d",
   "metadata": {},
   "source": [
    "# Read the docs\n",
    "https://moz.com/help/linksa-api\n",
    "\n",
    "Welcome to the MOZ Links API! Using this, you can access the same data that\n",
    "powers the MOZ Link Explorer. This environment you're in is called a Jupyter\n",
    "Notebook, though the actual software that's running the Notebook is called\n",
    "JupyterLab. There are a variety of ways to run Notebooks, including cloud-hosted, \n",
    "such as Google Colab.\n",
    "\n",
    "This is the documentation that is embedded into the Notebook along with live\n",
    "run-able code. Below is Python programming code. When you run a cell, it actually \n",
    "runs in a full fledged Python virtual machine (kernel), with a fully modern, \n",
    "exactly as from the Python.org CPython official version.\n",
    "\n",
    "# Do global imports\n",
    "\n",
    "These are resources that are not loaded into the running Python interpreter\n",
    "by default, but we know we will need it later on. They can be used anywhere\n",
    "in the Notebook."
   ]
  },
  {
   "cell_type": "code",
   "execution_count": null,
   "id": "ad06b745-0476-41e4-b6fc-d30bd017bf1c",
   "metadata": {},
   "outputs": [],
   "source": [
    "import json\n",
    "import requests\n",
    "from pprint import pprint"
   ]
  },
  {
   "cell_type": "markdown",
   "id": "8b783028-6def-4f3a-9d68-2f35ed5e028c",
   "metadata": {},
   "source": [
    "# Get login values from drive\n",
    "\n",
    "We avoid putting login information in the part of this folder that gets\n",
    "syncronized up to Github in a repo."
   ]
  },
  {
   "cell_type": "code",
   "execution_count": null,
   "id": "fb965944-bd6c-4a4c-b7a3-64842a59825c",
   "metadata": {},
   "outputs": [],
   "source": [
    "# Get credentials from external file\n",
    "with open(\"mozcreds.txt\") as fh:\n",
    "    ACCESSID, SECRETKEY = [x.strip().split(\": \")[1] for x in fh.readlines()]"
   ]
  },
  {
   "cell_type": "markdown",
   "id": "441819b2-4850-4f78-951e-a395b0439fb0",
   "metadata": {},
   "source": [
    "# Configure variables\n",
    "\n",
    "Things in ALL CAPS are constants and never change, though that's not a set\n",
    "rule in Python. The rest of the things are just enough to define an API-call."
   ]
  },
  {
   "cell_type": "code",
   "execution_count": null,
   "id": "ab0fe10a-92e4-4568-921e-c48146043eda",
   "metadata": {},
   "outputs": [],
   "source": [
    "ENDPOINT = \"https://lsapi.seomoz.com/v2/\"\n",
    "end_sub = \"anchor_text\"\n",
    "url = ENDPOINT + end_sub\n",
    "auth = (ACCESSID, SECRETKEY)\n",
    "data = {\"target\": \"moz.com/blog\", \"scope\": \"page\", \"limit\": 1}\n",
    "data = json.dumps(data)"
   ]
  },
  {
   "cell_type": "markdown",
   "id": "fc43d78b-188d-4fa1-a378-021fdbd8a3a0",
   "metadata": {},
   "source": [
    "# Hit API\n",
    "\n",
    "This step actually uses the requests package to reach out over the\n",
    "Internet and hit the MOZ API. The data that comes back is real."
   ]
  },
  {
   "cell_type": "code",
   "execution_count": null,
   "id": "fe6fcecb-436a-42fb-ad9f-1c2afd71d395",
   "metadata": {},
   "outputs": [],
   "source": [
    "r = requests.post(url, data=data, auth=auth)"
   ]
  },
  {
   "cell_type": "code",
   "execution_count": null,
   "id": "49a00099-24d1-48ca-b276-92d561d4d504",
   "metadata": {},
   "outputs": [],
   "source": [
    "r"
   ]
  },
  {
   "cell_type": "code",
   "execution_count": null,
   "id": "f35151bf-4273-4a2a-ab67-89575ced59e4",
   "metadata": {},
   "outputs": [],
   "source": [
    "r.json()"
   ]
  },
  {
   "cell_type": "markdown",
   "id": "1b3c9d30-615f-4ebf-8346-ac4d8feb8b41",
   "metadata": {},
   "source": [
    "# Endpoints\n",
    "\n",
    "These are the various sub-endpoints. The common part of the service's\n",
    "address is in the ENDPOINT constant. It never changes. But we may hit\n",
    "different services reachable from that common endpoint:"
   ]
  },
  {
   "cell_type": "code",
   "execution_count": null,
   "id": "cc961c74-e9c4-4b13-9374-1970342f4c15",
   "metadata": {},
   "outputs": [],
   "source": [
    "points = [\n",
    "    \"anchor_text\",\n",
    "    \"final_redirect\",\n",
    "    \"global_top_pages\",\n",
    "    \"global_top_root_domains\",\n",
    "    \"index_metadata\",\n",
    "    \"link_intersect\",\n",
    "    \"link_status\",\n",
    "    \"linking_root_domains\",\n",
    "    \"links\",\n",
    "    \"top_pages\",\n",
    "    \"url_metrics\",\n",
    "    \"usage_data\",\n",
    "    \"link_intersect\",\n",
    "    \"link_status\",\n",
    "    \"url_metrics\",\n",
    "]"
   ]
  },
  {
   "cell_type": "code",
   "execution_count": null,
   "id": "faaf7886-32b9-4099-8a82-2d308b0169d0",
   "metadata": {},
   "outputs": [],
   "source": [
    "# List all available endpoints\n",
    "for point in points:\n",
    "    print(point)"
   ]
  },
  {
   "cell_type": "code",
   "execution_count": null,
   "id": "4a4fbfa0-ad5d-4f0e-9c3b-0c3d1b3eadcc",
   "metadata": {},
   "outputs": [],
   "source": [
    "ed = {}"
   ]
  },
  {
   "cell_type": "markdown",
   "id": "7a1e4e2e-c17b-431a-924d-9166274e75b7",
   "metadata": {},
   "source": [
    "# Make an example request for each endpoint."
   ]
  },
  {
   "cell_type": "code",
   "execution_count": null,
   "id": "fc9a4b66-d3da-4f38-9360-1269434ce8ef",
   "metadata": {},
   "outputs": [],
   "source": [
    "ed[\"anchor_text\"] = {\"target\": \"moz.com/blog\", \"scope\": \"page\", \"limit\": 5}\n",
    "ed[\"links\"] = {\n",
    "    \"target\": \"moz.com/blog\",\n",
    "    \"target_scope\": \"page\",\n",
    "    \"filter\": \"external+nofollow\",\n",
    "    \"limit\": 1,\n",
    "}\n",
    "ed[\"final_redirect\"] = {\"page\": \"seomoz.org/blog\"}\n",
    "ed[\"global_top_pages\"] = {\"limit\": 5}\n",
    "ed[\"global_top_root_domains\"] = {\"limit\": 5}\n",
    "ed[\"index_metadata\"] = {}\n",
    "ed[\"link_intersect\"] = {\n",
    "    \"positive_targets\": [\n",
    "        {\"target\": \"latimes.com\", \"scope\": \"root_domain\"},\n",
    "        {\"target\": \"blog.nytimes.com\", \"scope\": \"subdomain\"},\n",
    "    ],\n",
    "    \"negative_targets\": [{\"target\": \"moz.com\", \"scope\": \"root_domain\"}],\n",
    "    \"source_scope\": \"page\",\n",
    "    \"sort\": \"source_domain_authority\",\n",
    "    \"limit\": 1,\n",
    "}\n",
    "ed[\"link_status\"] = {\n",
    "    \"target\": \"moz.com/blog\",\n",
    "    \"sources\": [\"twitter.com\", \"linkedin.com\"],\n",
    "    \"source_scope\": \"root_domain\",\n",
    "    \"target_scope\": \"page\",\n",
    "}\n",
    "ed[\"linking_root_domains\"] = {\n",
    "    \"target\": \"moz.com/blog\",\n",
    "    \"target_scope\": \"page\",\n",
    "    \"filter\": \"external\",\n",
    "    \"sort\": \"source_domain_authority\",\n",
    "    \"limit\": 5,\n",
    "}\n",
    "ed[\"top_pages\"] = {\"target\": \"moz.com\", \"scope\": \"root_domain\", \"limit\": 5}\n",
    "ed[\"url_metrics\"] = {\"targets\": [\"moz.com\", \"nytimes.com\"]}\n",
    "ed[\"usage_data\"] = {}\n"
   ]
  },
  {
   "cell_type": "code",
   "execution_count": null,
   "id": "8567aed7-8d0a-4cd0-be57-9d958c6f32cf",
   "metadata": {},
   "outputs": [],
   "source": [
    "def objectify(strjson):\n",
    "    \"\"\"Returns dict object given stringified JSON.\"\"\"\n",
    "    adict = json.loads(strjson)\n",
    "    return adict"
   ]
  },
  {
   "cell_type": "markdown",
   "id": "22616ba3-ff47-45e0-bbd8-6d8894962c72",
   "metadata": {},
   "source": [
    "# Define a Function\n",
    "\n",
    "Whenever we start to do the same sequence of code with only small\n",
    "variations between versions more than once, we write a function."
   ]
  },
  {
   "cell_type": "code",
   "execution_count": null,
   "id": "5a4c7a78-291d-44e3-b3a7-e2b7931805fb",
   "metadata": {},
   "outputs": [],
   "source": [
    "def moz(subend, datadict):\n",
    "    data = json.dumps(datadict)\n",
    "    url = ENDPOINT + subend\n",
    "    r = requests.post(url, data=data, auth=auth)\n",
    "    return r"
   ]
  },
  {
   "cell_type": "code",
   "execution_count": null,
   "id": "aee2a53d-fd23-47e0-ac01-da1b034f21f4",
   "metadata": {},
   "outputs": [],
   "source": [
    "# Don't re-run unles you want to reset all endpoint calls\n",
    "results = {}"
   ]
  },
  {
   "cell_type": "code",
   "execution_count": null,
   "id": "a34646f2-12e7-49e9-9fee-30e779ce63b9",
   "metadata": {},
   "outputs": [],
   "source": [
    "for point in points:\n",
    "    if point in ed:\n",
    "        if point not in results:\n",
    "            result = moz(point, ed[point])\n",
    "            results[point] = result\n",
    "            print(result.json())"
   ]
  },
  {
   "cell_type": "code",
   "execution_count": null,
   "id": "cc7f3aaf-8d8d-4256-8cd6-eb82024fae58",
   "metadata": {},
   "outputs": [],
   "source": [
    "results[\"link_intersect\"].json()"
   ]
  },
  {
   "cell_type": "code",
   "execution_count": null,
   "id": "c2c09da6-6ef9-48ad-8be0-c2808fad3c43",
   "metadata": {},
   "outputs": [],
   "source": [
    "for point in points:\n",
    "    request = ed[point]\n",
    "    result = results[point]\n",
    "    print(point)\n",
    "    print()\n",
    "    print(request)\n",
    "    print()\n",
    "    pprint(result.json())\n",
    "    print()"
   ]
  },
  {
   "cell_type": "code",
   "execution_count": null,
   "id": "fcac660d-0dfe-4910-8d5e-58ea5369e89f",
   "metadata": {},
   "outputs": [],
   "source": []
  }
 ],
 "metadata": {
  "kernelspec": {
   "display_name": "Python 3 (ipykernel)",
   "language": "python",
   "name": "python3"
  },
  "language_info": {
   "codemirror_mode": {
    "name": "ipython",
    "version": 3
   },
   "file_extension": ".py",
   "mimetype": "text/x-python",
   "name": "python",
   "nbconvert_exporter": "python",
   "pygments_lexer": "ipython3"
  }
 },
 "nbformat": 4,
 "nbformat_minor": 5
}
