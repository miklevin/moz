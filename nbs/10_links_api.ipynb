{
 "cells": [
  {
   "cell_type": "code",
   "execution_count": null,
   "id": "446483a8-beef-44af-8400-dcc96665714b",
   "metadata": {
    "tags": []
   },
   "outputs": [],
   "source": [
    "%load_ext lab_black"
   ]
  },
  {
   "cell_type": "markdown",
   "id": "6c6580b2-a5f4-4f44-9cb4-7c57ac78528d",
   "metadata": {},
   "source": [
    "# MOZ Links API Education & Guidance\n",
    "The purpose of this Jupyter Notebook is to introduce using the MOZ Links API using Python. This should work on any Notebook hosting environment, such as Google Colab. If you're looking at this on Github, the code snippets can be copy/pasted into your own Notebook environment. By the time you've run this script to the bottom, you will have used every MOZ Links API endpoint, and can pick the parts you want for your own project. The official documentation is at [https://moz.com/help/links-api](https://moz.com/help/links-api)"
   ]
  },
  {
   "cell_type": "markdown",
   "id": "ea0153d9-54d6-4eca-ae06-19f29170f96e",
   "metadata": {},
   "source": [
    "## Do global imports\n",
    "\n",
    "The import statements at the top of a Python program are used to load external resources that are not loaded by default in the Python interpreter. These resources may include libraries or modules that provide additional functionality to the program.\n",
    "\n",
    "Import statements are usually placed at the top of a program, before any other code is executed. This allows the program to load any necessary resources before they are needed in the program.\n",
    "\n",
    "Once the resources have been loaded using import statements, they can be used anywhere in the program, not just in the cell where the import statement was written. This allows the program to access the functionality provided by the imported resources throughout its execution."
   ]
  },
  {
   "cell_type": "code",
   "execution_count": null,
   "id": "ad06b745-0476-41e4-b6fc-d30bd017bf1c",
   "metadata": {
    "tags": []
   },
   "outputs": [],
   "source": [
    "import json\n",
    "import requests\n",
    "from headlines import *\n",
    "from pprint import pprint\n",
    "from sqlitedict import SqliteDict as sqldict"
   ]
  },
  {
   "cell_type": "markdown",
   "id": "8b783028-6def-4f3a-9d68-2f35ed5e028c",
   "metadata": {},
   "source": [
    "## Load login values from external file\n",
    "\n",
    "The code below reads a file named \"linksapi.txt\" from the \"assets\" directory, which contains the login credentials, including the access ID and secret key needed to access the Moz API. These credentials are extracted from the file and assigned to two variables named `ACCESSID` and `SECRETKEY`. The `with` statement is used to ensure that the file is properly closed after it's been read. Create a file whose contents look like this with your credentials manually retreived from moz.com:\n",
    "\n",
    "    ACCESSID: mozscape-1234567890\n",
    "    SECRETKEY: 1234567890abcdef1234567890abcdef\n",
    "\n",
    "Once the credentials are extracted from the file, they are stored in a tuple named `AUTH_TUPLE`. This tuple can be used as an argument to the Moz API functions to authenticate and authorize access to the data.\n",
    "\n",
    "The purpose of this approach is to avoid hard-coding sensitive login credentials directly in the program, which could pose a security risk if the code was shared or published publicly. Instead, the credentials are kept in a separate file that is not included in the repository, and can be easily created and updated as needed. This way, the code can be shared without exposing the credentials to the public."
   ]
  },
  {
   "cell_type": "code",
   "execution_count": null,
   "id": "fb965944-bd6c-4a4c-b7a3-64842a59825c",
   "metadata": {
    "tags": []
   },
   "outputs": [],
   "source": [
    "with open(\"../assets/linksapi.txt\") as fh:\n",
    "    ACCESSID, SECRETKEY = [x.strip().split(\" \")[1] for x in fh.readlines()]\n",
    "\n",
    "AUTH_TUPLE = (ACCESSID, SECRETKEY)  # Don't show contents while live-streaming!"
   ]
  },
  {
   "cell_type": "markdown",
   "id": "441819b2-4850-4f78-951e-a395b0439fb0",
   "metadata": {},
   "source": [
    "## Configure variables\n",
    "\n",
    "In this code, there are several configuration variables that are used to set up the API call to the MOZ Links API.\n",
    "\n",
    "The first variable, `COMMON_ENDPOINT`, is a constant that stores the endpoint URL for the MOZ API. The second variable, `sub_endpoint`, is a string that represents the endpoint subpath for the anchor text data, which will be appended to the `COMMON_ENDPOINT` URL to form the complete API `endpoint` URL.\n",
    "\n",
    "The fourth variable, `data_dict`, is a dictionary that contains the parameters for the API request. In this case, the `data_dict` specifies the target URL for which we want to retrieve anchor text data, the scope of the data (in this case, page-level), and a limit of 1 result.\n",
    "\n",
    "Finally, the `json_string` variable is created by converting the `data_dict` dictionary into a JSON-formatted string using the `json.dumps()` function. This string will be used as the request body when making the API call.\n",
    "\n",
    "These variables are used to configure and parameterize the API request, and can be modified to perform any `data_dict` request against any MOZ Links API `sub_endpoint`."
   ]
  },
  {
   "cell_type": "code",
   "execution_count": null,
   "id": "ab0fe10a-92e4-4568-921e-c48146043eda",
   "metadata": {},
   "outputs": [],
   "source": [
    "COMMON_ENDPOINT = \"https://lsapi.seomoz.com/v2/\"\n",
    "sub_endpoint = \"anchor_text\"\n",
    "endpoint = COMMON_ENDPOINT + sub_endpoint\n",
    "data_dict = {\"target\": \"moz.com/blog\", \"scope\": \"page\", \"limit\": 1}\n",
    "json_string = json.dumps(data_dict)"
   ]
  },
  {
   "cell_type": "markdown",
   "id": "fc43d78b-188d-4fa1-a378-021fdbd8a3a0",
   "metadata": {},
   "source": [
    "# Actually Hit the API (Ensure Success)\n",
    "\n",
    "In JupyterLab, the last line of a code cell is automatically printed to the output area without requiring an explicit `print()` statement. The code you provided is using the `requests` module to send a POST request to a URL `url` with data in the form of a JSON string `json_string`. The authentication details are passed using the `AUTH_TUPLE` variable.\n",
    "\n",
    "After sending the request, the response object r is printed using the `print()` statement. This will print the HTTP status code, such as 200 for success, 404 for not found, etc., along with the response headers.\n",
    "\n",
    "Finally, the `.json()` method is called on the response object `response` to parse the response data as JSON and return it as a Python dictionary. This dictionary can be assigned to a variable, used for further processing, or simply printed to the output area without requiring an explicit print() statement due to JupyterLab's automatic printing behavior for the last line of a code cell."
   ]
  },
  {
   "cell_type": "code",
   "execution_count": null,
   "id": "fe6fcecb-436a-42fb-ad9f-1c2afd71d395",
   "metadata": {},
   "outputs": [],
   "source": [
    "response = requests.post(endpoint, data=json_string, auth=AUTH_TUPLE)\n",
    "pprint(response.json())"
   ]
  },
  {
   "cell_type": "markdown",
   "id": "1b3c9d30-615f-4ebf-8346-ac4d8feb8b41",
   "metadata": {},
   "source": [
    "# List Sub-endpoints\n",
    "\n",
    "This code defines a list of different sub-endpoints that can be appended to a common URL prefix to make different API endpoints. An API endpoint is a URL where an API can be accessed by clients. It is a point of entry to the application that acts as a gatekeeper between the client and the server. Each endpoint is identified by a unique URL, which can be used to interact with the API.\n",
    "\n",
    "In this code, the list of sub-endpoints is defined in the `sub_endpoints` variable, and each endpoint is represented as a string. The for loop iterates over the list, prints the index number and name of each sub-endpoint using the print function, and increments the index by 1. The `enumerate` function is used to generate a sequence of pairs consisting of an index and a value from the list.\n",
    "\n",
    "This code is useful for exploring the available endpoints for a particular API and for selecting the endpoint that corresponds to the desired functionality. By changing the sub-endpoint in the URL, clients can access different resources or perform different operations on the server."
   ]
  },
  {
   "cell_type": "code",
   "execution_count": null,
   "id": "78473926-45b6-4205-877b-cc53962fdb6f",
   "metadata": {
    "tags": []
   },
   "outputs": [],
   "source": [
    "sub_endpoints = [\n",
    "    \"anchor_text\",\n",
    "    \"final_redirect\",\n",
    "    \"global_top_pages\",\n",
    "    \"global_top_root_domains\",\n",
    "    \"index_metadata\",\n",
    "    \"link_intersect\",\n",
    "    \"link_status\",\n",
    "    \"linking_root_domains\",\n",
    "    \"links\",\n",
    "    \"top_pages\",\n",
    "    \"url_metrics\",\n",
    "    \"usage_data\",\n",
    "]\n",
    "for i, sub_endpoint in enumerate(sub_endpoints):\n",
    "    print(i + 1, sub_endpoint)"
   ]
  },
  {
   "cell_type": "markdown",
   "id": "f91a7563-e964-46a1-8bc5-9ff761d60a99",
   "metadata": {},
   "source": [
    "# Human friendly labels\n",
    "\n",
    "This code defines two lists: `names` and `descriptions`. The names list contains human-friendly labels for the set of sub-endpoints, while the `descriptions` list provides a brief description of each endpoint. The two lists are kept in the same order as the `points` list defined earlier in the code.\n",
    "\n",
    "By keeping the three lists in the same order, they can be \"zipped\" together into a single list of tuples using the `zip` function. This produces a new list where each tuple contains the name, endpoint, and description for a particular API endpoint. This makes it easy to display a user-friendly summary of each API endpoint with its name and description.\n",
    "\n",
    "The `zip` function combines the elements of the three lists element-wise, creating a tuple of the first elements from each list, then a tuple of the second elements, and so on. The resulting list of tuples can be iterated over, and each tuple unpacked to access the individual name, endpoint, and description elements for each API endpoint."
   ]
  },
  {
   "cell_type": "code",
   "execution_count": null,
   "id": "21eebe0f-a887-4ca3-a1e5-d1d41bb9ca18",
   "metadata": {
    "tags": []
   },
   "outputs": [],
   "source": [
    "names = [\n",
    "    \"Anchor Text\",\n",
    "    \"Final Redirect\",\n",
    "    \"Global Top Pages\",\n",
    "    \"Global Top Root Domains\",\n",
    "    \"Index Metadata\",\n",
    "    \"Link Intersect\",\n",
    "    \"Link Status\",\n",
    "    \"Linking Root Domains\",\n",
    "    \"Links\",\n",
    "    \"Top Pages\",\n",
    "    \"URL Metrics\",\n",
    "    \"Usage Data\",\n",
    "]\n",
    "\n",
    "descriptions = [\n",
    "    \"Use this endpoint to get data about anchor text used by followed external links to a target. Results are ordered by external_root_domains descending.\",\n",
    "    \"Use this endpoint to get data about anchor text used by followed external links to a target. Results are ordered by external_root_domains descending.\",\n",
    "    \"This endpoint returns the top 500 pages in the entire index with the highest Page Authority values, sorted by Page Authority. (Visit the Top 500 Sites list to explore the top root domains on the web, sorted by Domain Authority.)\",\n",
    "    \"This endpoint returns the top 500 pages in the entire index with the highest Page Authority values, sorted by Page Authority. (Visit the Top 500 Sites list to explore the top root domains on the web, sorted by Domain Authority.)\",\n",
    "    \"This endpoint returns the top 500 pages in the entire index with the highest Page Authority values, sorted by Page Authority. (Visit the Top 500 Sites list to explore the top root domains on the web, sorted by Domain Authority.)\",\n",
    "    \"Use this endpoint to get sources that link to at least one of a list of positive targets and don't link to any of a list of negative targets.\",\n",
    "    \"Use this endpoint to get information about links from many sources to a single target.\",\n",
    "    \"Use this endpoint to get linking root domains to a target.\",\n",
    "    \"Use this endpoint to get links to a target.\",\n",
    "    \"This endpoint returns top pages on a target domain.\",\n",
    "    \"Use this endpoint to get metrics about one or more urls.\",\n",
    "    \"This endpoint Returns the number of rows consumed so far in the current billing period. The count returned might not reflect rows consumed in the last hour. The count returned reflects rows consumed by requests to both the v1 (Moz Links API) and v2 Links APIs.\",\n",
    "]\n",
    "\n",
    "# Simple zipping example\n",
    "list(zip(names, sub_endpoints, descriptions))"
   ]
  },
  {
   "cell_type": "markdown",
   "id": "7a1e4e2e-c17b-431a-924d-9166274e75b7",
   "metadata": {},
   "source": [
    "# Show an example request for each endpoint.\n",
    "\n",
    "This is a list of API requests in Python dict format, where each dictionary represents a request to a specific endpoint. The keys of the top-level dictionary correspond to the names of the endpoints, and the values are dictionaries that contain the specific parameters for each request.\n",
    "\n",
    "The format is a dict of dicts, where each sub-dictionary corresponds to a specific endpoint and contains the necessary parameters to make a request to that endpoint. The sub-dictionaries are presented in the same order as the names and descriptions in the previous lists, making combining them easy.\n",
    "\n",
    "By using a loop to iterate over the names and descriptions lists and the dict_of_dicts dictionary, the code is able to demonstrate how all four lists can be combined to show an example request to each endpoint. The pprint function is used to print the contents of the corresponding sub-dictionary for each endpoint, which gives an example of what a request to that endpoint might look like."
   ]
  },
  {
   "cell_type": "code",
   "execution_count": null,
   "id": "fc78f033-79d0-4ff3-a38e-be3130deea7b",
   "metadata": {
    "tags": []
   },
   "outputs": [],
   "source": [
    "dict_of_dicts = {\n",
    "    \"anchor_text\": {\"target\": \"moz.com/blog\", \"scope\": \"page\", \"limit\": 5},\n",
    "    \"links\": {\n",
    "        \"target\": \"moz.com/blog\",\n",
    "        \"target_scope\": \"page\",\n",
    "        \"filter\": \"external+nofollow\",\n",
    "        \"limit\": 1,\n",
    "    },\n",
    "    \"final_redirect\": {\"page\": \"seomoz.org/blog\"},\n",
    "    \"global_top_pages\": {\"limit\": 5},\n",
    "    \"global_top_root_domains\": {\"limit\": 5},\n",
    "    \"index_metadata\": {},\n",
    "    \"link_intersect\": {\n",
    "        \"positive_targets\": [\n",
    "            {\"target\": \"latimes.com\", \"scope\": \"root_domain\"},\n",
    "            {\"target\": \"blog.nytimes.com\", \"scope\": \"subdomain\"},\n",
    "        ],\n",
    "        \"negative_targets\": [{\"target\": \"moz.com\", \"scope\": \"root_domain\"}],\n",
    "        \"source_scope\": \"page\",\n",
    "        \"sort\": \"source_domain_authority\",\n",
    "        \"limit\": 1,\n",
    "    },\n",
    "    \"link_status\": {\n",
    "        \"target\": \"moz.com/blog\",\n",
    "        \"sources\": [\"twitter.com\", \"linkedin.com\"],\n",
    "        \"source_scope\": \"root_domain\",\n",
    "        \"target_scope\": \"page\",\n",
    "    },\n",
    "    \"linking_root_domains\": {\n",
    "        \"target\": \"moz.com/blog\",\n",
    "        \"target_scope\": \"page\",\n",
    "        \"filter\": \"external\",\n",
    "        \"sort\": \"source_domain_authority\",\n",
    "        \"limit\": 5,\n",
    "    },\n",
    "    \"top_pages\": {\"target\": \"moz.com\", \"scope\": \"root_domain\", \"limit\": 5},\n",
    "    \"url_metrics\": {\"targets\": [\"moz.com\", \"nytimes.com\"]},\n",
    "    \"usage_data\": {},\n",
    "}\n",
    "\n",
    "for i, point in enumerate(sub_endpoints):\n",
    "    h1(f\"{i + 1}. {names[i]} ({sub_endpoint})\")\n",
    "    print(descriptions[i])\n",
    "    h4(\"Example request:\")\n",
    "    pprint(dict_of_dicts[sub_endpoint])\n",
    "    print()"
   ]
  },
  {
   "cell_type": "markdown",
   "id": "22616ba3-ff47-45e0-bbd8-6d8894962c72",
   "metadata": {},
   "source": [
    "# Write a Function That Hits API\n",
    "\n",
    "This is a Python function that takes two arguments: `subend` and `datadict`. The `subend` argument is a string that represents the sub-endpoint of the MOZ Links API that the user wants to hit, and the `datadict` argument is a Python dictionary that represents the request to be sent to that sub-endpoint.\n",
    "\n",
    "The `moz()` function makes use of the `requests` library to send a HTTP POST request to the specified sub-endpoint with the data in `datadict` encoded as a JSON string. The `auth` variable is used to include authentication credentials in the request. Once the request is sent, the response is returned by the function.\n",
    "\n",
    "This function can help make repetitive tasks easier by encapsulating the repetitive parts of the task (sending requests to the MOZ Links API) into a reusable function. Instead of writing the same code to send HTTP POST requests to the API for each sub-endpoint and request, the `moz()` function can be called with the appropriate `subend` and `datadict` arguments to make the API call. This reduces the amount of code that needs to be written, and makes the code easier to read and maintain."
   ]
  },
  {
   "cell_type": "code",
   "execution_count": null,
   "id": "5a4c7a78-291d-44e3-b3a7-e2b7931805fb",
   "metadata": {},
   "outputs": [],
   "source": [
    "def moz(sub_endpoint, data_dict):\n",
    "    \"\"\"Hits MOZ Links API with specified endpoint and request and returns results.\"\"\"\n",
    "    json_string = json.dumps(data_dict)\n",
    "    endpoint = COMMON_ENDPOINT + sub_endpoint\n",
    "    # Below, data is a string (flattened JSON) but auth is a 2-position tuple.\n",
    "    response = requests.post(endpoint, data=json_string, auth=AUTH_TUPLE)\n",
    "    return response"
   ]
  },
  {
   "cell_type": "markdown",
   "id": "1f6ad044-5237-4716-8017-77099f337ec3",
   "metadata": {},
   "source": [
    "# Conditionally Hit the API\n",
    "\n",
    "The code uses a Python package called `SqliteDict` which provides a persistent dictionary-like object that can be stored on disk using the SQLite database engine.\n",
    "\n",
    "The `with` statement in the code sets up a context manager for the `SqliteDict` object, which automatically handles opening and closing the database connection. The database file is stored in the `dbs/mozlinksapi.db` directory.\n",
    "\n",
    "The code iterates through each endpoint in the `points` list, and checks if the endpoint already exists in the `SqliteDict`. If it doesn't, the API is called using the `moz()` function and the result is saved in the `SqliteDict`. The `db.commit()` statement ensures that any changes made to the dictionary during the iteration are saved to the database.\n",
    "\n",
    "The `SqliteDict` serves as a local cache to prevent the API from being hit every time the code block is run if the data has already been collected. By using this cache, the code reduces the number of API requests required, which is useful when working with APIs that have rate limits.\n",
    "\n",
    "The `with` statement is used to automatically close the database connection when the code block is finished. This ensures that the data is safely written to the database and prevents any issues with data corruption."
   ]
  },
  {
   "cell_type": "code",
   "execution_count": null,
   "id": "78dc52e2-9d4c-425b-8401-c375132984c9",
   "metadata": {},
   "outputs": [],
   "source": [
    "with sqldict(\"dbs/linksapi.db\") as db:\n",
    "    for sub_endpoint in sub_endpoints:\n",
    "        if sub_endpoint not in db:\n",
    "            print(sub_endpoint)\n",
    "            result = moz(sub_endpoint, dict_of_dicts[sub_endpoint])\n",
    "            db[sub_endpoint] = result\n",
    "            db.commit()\n",
    "            print(\"API hit and response saved!\")\n",
    "            print()\n",
    "h2(\"Done\")"
   ]
  },
  {
   "cell_type": "markdown",
   "id": "9253ab4b-29bf-4a13-9ab5-101cae7ae34b",
   "metadata": {},
   "source": [
    "# Show the locally stored API responses.\n",
    "\n",
    "This code uses the `sqldict` context manager to open the SQLite database containing the previously retrieved API data. It then iterates over the keys in the database, which correspond to the endpoints that were previously retrieved.\n",
    "\n",
    "For each key, the code prints the endpoint name, description, and the data retrieved from the API. The `pprint` function is used to print the JSON data in a more human-readable format, with indentation and line breaks that make it easier to read."
   ]
  },
  {
   "cell_type": "code",
   "execution_count": null,
   "id": "57c024a4-a73e-4598-b8cf-ab1d9c0d1eb4",
   "metadata": {},
   "outputs": [],
   "source": [
    "with sqldict(\"dbs/linksapi.db\") as db:\n",
    "    for i, key in enumerate(db):\n",
    "        h1(f\"{i + 1}. {names[i]} ({key})\")\n",
    "        print(descriptions[i])\n",
    "        print()\n",
    "        pprint(db[key].json())\n",
    "        print()"
   ]
  },
  {
   "cell_type": "code",
   "execution_count": null,
   "id": "ac830f74-9c4d-436e-8cbc-2bd71d6eaf17",
   "metadata": {},
   "outputs": [],
   "source": []
  }
 ],
 "metadata": {
  "kernelspec": {
   "display_name": "Python 3 (ipykernel)",
   "language": "python",
   "name": "python3"
  },
  "language_info": {
   "codemirror_mode": {
    "name": "ipython",
    "version": 3
   },
   "file_extension": ".py",
   "mimetype": "text/x-python",
   "name": "python",
   "nbconvert_exporter": "python",
   "pygments_lexer": "ipython3",
   "version": "3.11.2"
  }
 },
 "nbformat": 4,
 "nbformat_minor": 5
}
