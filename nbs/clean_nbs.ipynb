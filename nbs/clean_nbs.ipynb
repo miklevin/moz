{
 "cells": [
  {
   "cell_type": "code",
   "execution_count": null,
   "id": "22ea4755-a790-4f12-a390-2746e3ae7a29",
   "metadata": {},
   "outputs": [],
   "source": [
    "from os import getcwd\n",
    "from shlex import split\n",
    "from pathlib import Path\n",
    "from subprocess import call\n",
    "\n",
    "for notebook in Path().glob(\"*.ipynb\"):\n",
    "    command = f\"/home/ubuntu/py311/bin/nb-clean clean {getcwd()}/{notebook}\"\n",
    "    print(command)\n",
    "    print(call(split(command)))\n",
    "print(\"Done\")"
   ]
  },
  {
   "cell_type": "code",
   "execution_count": null,
   "id": "aa71f581-a482-4a34-bd8d-ffd52a101fff",
   "metadata": {},
   "outputs": [],
   "source": []
  }
 ],
 "metadata": {
  "kernelspec": {
   "display_name": "python3",
   "language": "python",
   "name": "python3"
  }
 },
 "nbformat": 4,
 "nbformat_minor": 5
}
