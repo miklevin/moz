{
 "cells": [
  {
   "cell_type": "code",
   "execution_count": null,
   "id": "d9d8049b-a4fe-427c-aa9f-edfcd86d795b",
   "metadata": {},
   "outputs": [],
   "source": [
    "import openai"
   ]
  },
  {
   "cell_type": "code",
   "execution_count": null,
   "id": "01e4efcf-6b7d-404b-85cc-c1223868df07",
   "metadata": {},
   "outputs": [],
   "source": [
    "with open (\"../assets/openai.txt\") as fh:\n",
    "    API_KEY = fh.readline()"
   ]
  },
  {
   "cell_type": "code",
   "execution_count": null,
   "id": "0b10c482-b2ef-4ed1-a992-193aabaa6275",
   "metadata": {},
   "outputs": [],
   "source": [
    "prompt = \"Write a poem about a sunset\"\n",
    "model = \"text-davinci-002\"\n",
    "response = openai.Completion.create(\n",
    "    engine=model,\n",
    "    prompt=prompt,\n",
    "    max_tokens=100\n",
    ")\n",
    "poem = response.choices[0].text\n",
    "print(poem)"
   ]
  }
 ],
 "metadata": {
  "kernelspec": {
   "display_name": "python3",
   "language": "python",
   "name": "python3"
  }
 },
 "nbformat": 4,
 "nbformat_minor": 5
}
