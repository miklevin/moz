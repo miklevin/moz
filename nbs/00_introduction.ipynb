{
 "cells": [
  {
   "cell_type": "markdown",
   "id": "d880f0ed-e8d3-449d-a316-2b8bc60cbbdf",
   "metadata": {},
   "source": [
    "# Introduction to MOZ Tutorial\n",
    "\n",
    "## MOZ\n",
    "MOZ is a software company that provides marketing analytics and SEO tools to businesses. Their products help businesses optimize their websites and improve their search engine rankings.\n",
    "\n",
    "## Jupyter Notebooks\n",
    "Jupyter Notebooks are a web-based interactive computational environment that allows users to create and share documents that contain live code, equations, visualizations, and narrative text.\n",
    "\n",
    "## MOZ Jupyter Notebooks\n",
    "Learning about MOZ in the context of Jupyter Notebooks is a good idea because it provides a way to interactively explore and analyze data from MOZ's marketing analytics and SEO tools. Jupyter Notebooks allow for the integration of code, data, and narrative text, which makes it easy to document and share insights and analyses with others. This can be particularly useful for businesses that want to track their SEO performance and make data-driven decisions to improve their online presence. Additionally, the ability to automate tasks and workflows with code can save time and increase efficiency.\n",
    "\n",
    "# What To Do\n",
    "\n",
    "## Running Cells\n",
    "JupyterLab allows users to write and execute code in individual cells, which can be run one at a time or all at once. Running cells in order from top to bottom is the default behavior, and it allows for a more organized and logical workflow. However, users can also choose to run specific cells out of order to test specific parts of the code or troubleshoot errors.\n",
    "\n",
    "## Reading Docs\n",
    "JupyterLab also provides built-in markdown documentation that can be used to explain the code and provide context for the user. This is especially helpful when learning about new libraries or APIs, as it can help the user to understand what the code is doing and how to modify it to suit their needs.\n",
    "\n",
    "## Racing Ahead\n",
    "In most cases, users only need to set a few values at the top of a file or notebook, such as API keys or input data, and then hit run all cells to execute the code and generate the desired output. However, reading the built-in documentation can provide a deeper understanding of the code and help users to troubleshoot any errors that may arise.\n",
    "\n",
    "# Advanced Topics\n"
   ]
  },
  {
   "cell_type": "code",
   "execution_count": null,
   "id": "79d1d895-6c7d-4335-a60a-3dba0a038795",
   "metadata": {},
   "outputs": [],
   "source": []
  }
 ],
 "metadata": {
  "kernelspec": {
   "display_name": "python3",
   "language": "python",
   "name": "python3"
  }
 },
 "nbformat": 4,
 "nbformat_minor": 5
}
